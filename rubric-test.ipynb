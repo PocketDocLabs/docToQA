{
 "cells": [
  {
   "cell_type": "code",
   "execution_count": null,
   "metadata": {},
   "outputs": [],
   "source": [
    "import evaluations\n",
    "\n",
    "test_json_path = \"/run/media/rstewart/Storage/datasets/tools/docToQA/e30manualhaynescomplete-part2.json\"\n",
    "\n",
    "# open the json file\n",
    "with open(test_json_path, 'r') as file:\n",
    "    test_json = file.read()\n",
    "\n",
    "# parse the json file\n",
    "test_json = eval(test_json)\n",
    "\n",
    "# Format:\n",
    "# {\n",
    "#    \"output\": [\n",
    "#        \"string1\",\n",
    "#        \"string2\",\n",
    "#        ...\n",
    "#    ],\n",
    "#    \"input\": \"string\"\n",
    "# }\n",
    "\n",
    "test_question = \"What precautions should be taken when working on a Motronic fuel injection system?\"\n",
    "\n",
    "# passes, results = evaluations.pass_test_usefulness(test_question, notes)\n",
    "\n",
    "# Use the usefulness evaluation to evaluate the test question against each of the strings in the output key of the json file and print the whether the question passes or fails and the results of the evaluation\n",
    "for test_string in test_json[\"output\"]:\n",
    "    score, results = evaluations.pass_test_usefulness(test_question, test_string)\n",
    "    print(f\"Test string: {test_string}\")\n",
    "    print(f\"Scores: {score}\")\n",
    "    print(f\"Results: {results}\")\n",
    "    print(\"\\n\")\n"
   ]
  }
 ],
 "metadata": {
  "kernelspec": {
   "display_name": "base",
   "language": "python",
   "name": "python3"
  },
  "language_info": {
   "codemirror_mode": {
    "name": "ipython",
    "version": 3
   },
   "file_extension": ".py",
   "mimetype": "text/x-python",
   "name": "python",
   "nbconvert_exporter": "python",
   "pygments_lexer": "ipython3",
   "version": "3.10.0"
  }
 },
 "nbformat": 4,
 "nbformat_minor": 2
}
